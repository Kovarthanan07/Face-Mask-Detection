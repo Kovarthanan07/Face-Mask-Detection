{
 "cells": [
  {
   "cell_type": "code",
   "execution_count": 1,
   "metadata": {},
   "outputs": [
    {
     "name": "stdout",
     "output_type": "stream",
     "text": [
      "Collecting opencv-python\n",
      "  Downloading opencv_python-4.5.2.54-cp38-cp38-manylinux2014_x86_64.whl (51.0 MB)\n",
      "\u001b[K     |████████████████████████████████| 51.0 MB 16 kB/s  eta 0:00:01\n",
      "\u001b[?25hRequirement already satisfied: numpy>=1.17.3 in /home/kova/anaconda3/lib/python3.8/site-packages (from opencv-python) (1.19.2)\n",
      "Installing collected packages: opencv-python\n",
      "Successfully installed opencv-python-4.5.2.54\n"
     ]
    }
   ],
   "source": [
    "!pip install opencv-python"
   ]
  },
  {
   "cell_type": "markdown",
   "metadata": {},
   "source": [
    "-----------------\n",
    "Importing nessessary libraries"
   ]
  },
  {
   "cell_type": "code",
   "execution_count": 48,
   "metadata": {},
   "outputs": [],
   "source": [
    "import cv2\n",
    "import numpy as np\n",
    "import matplotlib.pyplot as plt"
   ]
  },
  {
   "cell_type": "code",
   "execution_count": 49,
   "metadata": {},
   "outputs": [],
   "source": [
    "haar_data = cv2.CascadeClassifier('haarcascade_frontalface_default.xml')"
   ]
  },
  {
   "cell_type": "code",
   "execution_count": 66,
   "metadata": {},
   "outputs": [
    {
     "name": "stdout",
     "output_type": "stream",
     "text": [
      "image data collected : 0\n",
      "image data collected : 1\n",
      "image data collected : 2\n",
      "image data collected : 3\n",
      "image data collected : 4\n",
      "image data collected : 5\n",
      "image data collected : 6\n",
      "image data collected : 7\n",
      "image data collected : 8\n",
      "image data collected : 9\n",
      "image data collected : 10\n",
      "image data collected : 11\n",
      "image data collected : 12\n",
      "image data collected : 13\n",
      "image data collected : 14\n",
      "image data collected : 15\n",
      "image data collected : 16\n",
      "image data collected : 17\n",
      "image data collected : 18\n",
      "image data collected : 19\n",
      "image data collected : 20\n",
      "image data collected : 21\n",
      "image data collected : 22\n",
      "image data collected : 23\n",
      "image data collected : 24\n",
      "image data collected : 25\n",
      "image data collected : 26\n",
      "image data collected : 27\n",
      "image data collected : 28\n",
      "image data collected : 29\n",
      "image data collected : 30\n",
      "image data collected : 31\n",
      "image data collected : 32\n",
      "image data collected : 33\n",
      "image data collected : 34\n",
      "image data collected : 35\n",
      "image data collected : 36\n",
      "image data collected : 37\n",
      "image data collected : 38\n",
      "image data collected : 39\n",
      "image data collected : 40\n",
      "image data collected : 41\n",
      "image data collected : 42\n",
      "image data collected : 43\n",
      "image data collected : 44\n",
      "image data collected : 45\n",
      "image data collected : 46\n",
      "image data collected : 47\n",
      "image data collected : 48\n",
      "image data collected : 49\n",
      "image data collected : 50\n",
      "image data collected : 51\n",
      "image data collected : 52\n",
      "image data collected : 53\n",
      "image data collected : 54\n",
      "image data collected : 55\n",
      "image data collected : 56\n",
      "image data collected : 57\n",
      "image data collected : 58\n",
      "image data collected : 59\n",
      "image data collected : 60\n",
      "image data collected : 61\n",
      "image data collected : 62\n",
      "image data collected : 63\n",
      "image data collected : 64\n",
      "image data collected : 65\n",
      "image data collected : 66\n",
      "image data collected : 67\n",
      "image data collected : 68\n",
      "image data collected : 69\n",
      "image data collected : 70\n",
      "image data collected : 71\n",
      "image data collected : 72\n",
      "image data collected : 73\n",
      "image data collected : 74\n",
      "image data collected : 75\n",
      "image data collected : 76\n",
      "image data collected : 77\n",
      "image data collected : 78\n",
      "image data collected : 79\n",
      "image data collected : 80\n",
      "image data collected : 81\n",
      "image data collected : 82\n",
      "image data collected : 83\n",
      "image data collected : 84\n",
      "image data collected : 85\n",
      "image data collected : 86\n",
      "image data collected : 87\n",
      "image data collected : 88\n",
      "image data collected : 89\n",
      "image data collected : 90\n",
      "image data collected : 91\n",
      "image data collected : 92\n",
      "image data collected : 93\n",
      "image data collected : 94\n",
      "image data collected : 95\n",
      "image data collected : 96\n",
      "image data collected : 97\n",
      "image data collected : 98\n",
      "image data collected : 99\n",
      "image data collected : 100\n",
      "image data collected : 101\n",
      "image data collected : 102\n",
      "image data collected : 103\n",
      "image data collected : 104\n",
      "image data collected : 105\n",
      "image data collected : 106\n",
      "image data collected : 107\n",
      "image data collected : 108\n",
      "image data collected : 109\n",
      "image data collected : 110\n",
      "image data collected : 111\n",
      "image data collected : 112\n",
      "image data collected : 113\n",
      "image data collected : 114\n",
      "image data collected : 115\n",
      "image data collected : 116\n",
      "image data collected : 117\n",
      "image data collected : 118\n",
      "image data collected : 119\n",
      "image data collected : 120\n",
      "image data collected : 121\n",
      "image data collected : 122\n",
      "image data collected : 123\n",
      "image data collected : 124\n",
      "image data collected : 125\n",
      "image data collected : 126\n",
      "image data collected : 127\n",
      "image data collected : 128\n",
      "image data collected : 129\n",
      "image data collected : 130\n",
      "image data collected : 131\n",
      "image data collected : 132\n",
      "image data collected : 133\n",
      "image data collected : 134\n",
      "image data collected : 135\n",
      "image data collected : 136\n",
      "image data collected : 137\n",
      "image data collected : 138\n",
      "image data collected : 139\n",
      "image data collected : 140\n",
      "image data collected : 141\n",
      "image data collected : 142\n",
      "image data collected : 143\n",
      "image data collected : 144\n",
      "image data collected : 145\n",
      "image data collected : 146\n",
      "image data collected : 147\n",
      "image data collected : 148\n",
      "image data collected : 149\n",
      "image data collected : 150\n",
      "image data collected : 151\n",
      "image data collected : 152\n",
      "image data collected : 153\n",
      "image data collected : 154\n",
      "image data collected : 155\n",
      "image data collected : 156\n",
      "image data collected : 157\n",
      "image data collected : 158\n",
      "image data collected : 159\n",
      "image data collected : 160\n",
      "image data collected : 161\n",
      "image data collected : 162\n",
      "image data collected : 163\n",
      "image data collected : 164\n",
      "image data collected : 165\n",
      "image data collected : 166\n",
      "image data collected : 167\n",
      "image data collected : 168\n",
      "image data collected : 169\n",
      "image data collected : 170\n",
      "image data collected : 171\n",
      "image data collected : 172\n",
      "image data collected : 173\n",
      "image data collected : 174\n",
      "image data collected : 175\n",
      "image data collected : 176\n",
      "image data collected : 177\n",
      "image data collected : 178\n",
      "image data collected : 179\n",
      "image data collected : 180\n",
      "image data collected : 181\n",
      "image data collected : 182\n",
      "image data collected : 183\n",
      "image data collected : 184\n",
      "image data collected : 185\n",
      "image data collected : 186\n",
      "image data collected : 187\n",
      "image data collected : 188\n",
      "image data collected : 189\n",
      "image data collected : 190\n",
      "image data collected : 191\n",
      "image data collected : 192\n",
      "image data collected : 193\n",
      "image data collected : 194\n",
      "image data collected : 195\n",
      "image data collected : 196\n",
      "image data collected : 197\n",
      "image data collected : 198\n",
      "image data collected : 199\n"
     ]
    }
   ],
   "source": [
    "capture = cv2.VideoCapture(0)\n",
    "data = []\n",
    "\n",
    "while True : \n",
    "    flag, img = capture.read()\n",
    "    if flag : \n",
    "        faces = haar_data.detectMultiScale(img)\n",
    "        for x,y,w,h in faces : \n",
    "            cv2.rectangle(img, (x,y), (x+w, y+h), (255,0,255), 2)\n",
    "            face = img[y:y+h, x:x+w, :]\n",
    "            face = cv2.resize(face, (50,50))\n",
    "            print(\"image data collected : {}\".format(len(data)))\n",
    "            if(len(data) < 400):\n",
    "                data.append(face)\n",
    "        cv2.imshow('result', img)\n",
    "        if cv2.waitKey(2) == 27 or len(data) >= 200: \n",
    "            break\n",
    "\n",
    "capture.release()\n",
    "cv2.destroyAllWindows()"
   ]
  },
  {
   "cell_type": "code",
   "execution_count": 64,
   "metadata": {},
   "outputs": [],
   "source": [
    "# saving without mask data as np array \n",
    "np.save(\"without_mask.npy\", data)"
   ]
  },
  {
   "cell_type": "code",
   "execution_count": 67,
   "metadata": {},
   "outputs": [],
   "source": [
    "# saving with mask data as np array \n",
    "np.save(\"with_mask.npy\", data)"
   ]
  },
  {
   "cell_type": "code",
   "execution_count": 68,
   "metadata": {},
   "outputs": [
    {
     "data": {
      "text/plain": [
       "<matplotlib.image.AxesImage at 0x7f80661cd760>"
      ]
     },
     "execution_count": 68,
     "metadata": {},
     "output_type": "execute_result"
    },
    {
     "data": {
      "image/png": "[encoded data removed]",
      "text/plain": [
       "<Figure size 432x288 with 1 Axes>"
      ]
     },
     "metadata": {
      "needs_background": "light"
     },
     "output_type": "display_data"
    }
   ],
   "source": [
    "# display data \n",
    "plt.imshow(data[0])"
   ]
  },
  {
   "cell_type": "code",
   "execution_count": null,
   "metadata": {},
   "outputs": [],
   "source": []
  }
 ],
 "metadata": {
  "kernelspec": {
   "display_name": "Python 3",
   "language": "python",
   "name": "python3"
  },
  "language_info": {
   "codemirror_mode": {
    "name": "ipython",
    "version": 3
   },
   "file_extension": ".py",
   "mimetype": "text/x-python",
   "name": "python",
   "nbconvert_exporter": "python",
   "pygments_lexer": "ipython3",
   "version": "3.8.5"
  }
 },
 "nbformat": 4,
 "nbformat_minor": 4
}
