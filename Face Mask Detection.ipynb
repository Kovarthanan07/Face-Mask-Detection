{
 "cells": [
  {
   "cell_type": "markdown",
   "metadata": {},
   "source": [
    "-----------------\n",
    "Import needed libraries"
   ]
  },
  {
   "cell_type": "code",
   "execution_count": 107,
   "metadata": {},
   "outputs": [],
   "source": [
    "import cv2\n",
    "import numpy as np"
   ]
  },
  {
   "cell_type": "markdown",
   "metadata": {},
   "source": [
    "------------------\n",
    "Loading the data"
   ]
  },
  {
   "cell_type": "code",
   "execution_count": 108,
   "metadata": {},
   "outputs": [],
   "source": [
    "# with mask data\n",
    "with_mask = np.load('with_mask.npy')\n",
    "\n",
    "#without mask data\n",
    "without_mask = np.load('without_mask.npy')"
   ]
  },
  {
   "cell_type": "code",
   "execution_count": 109,
   "metadata": {},
   "outputs": [
    {
     "name": "stdout",
     "output_type": "stream",
     "text": [
      "Shape of with_mask data :  (200, 50, 50, 3)\n",
      "Shape of without_mask data :  (200, 50, 50, 3)\n"
     ]
    }
   ],
   "source": [
    "# Shape of the datas\n",
    "print('Shape of with_mask data : ', with_mask.shape)\n",
    "print('Shape of without_mask data : ', without_mask.shape)"
   ]
  },
  {
   "cell_type": "code",
   "execution_count": 110,
   "metadata": {},
   "outputs": [],
   "source": [
    "# Reshaping the data\n",
    "with_mask = with_mask.reshape(200, 50*50*3)\n",
    "without_mask = without_mask.reshape(200, 50*50*3)"
   ]
  },
  {
   "cell_type": "code",
   "execution_count": 111,
   "metadata": {},
   "outputs": [],
   "source": [
    "# combine both datas into one np array \n",
    "X = np.r_[with_mask, without_mask]"
   ]
  },
  {
   "cell_type": "code",
   "execution_count": 122,
   "metadata": {},
   "outputs": [],
   "source": [
    "# Generate labels for collected datas\n",
    "labels = np.zeros(X.shape[0])\n",
    "labels[0:200] = 1.0"
   ]
  },
  {
   "cell_type": "code",
   "execution_count": 142,
   "metadata": {},
   "outputs": [],
   "source": [
    "names = {0 : \"Mask\", 1 : \"No Mask\"}"
   ]
  },
  {
   "cell_type": "markdown",
   "metadata": {},
   "source": [
    "------------------\n",
    "Train our model using SVM"
   ]
  },
  {
   "cell_type": "code",
   "execution_count": 133,
   "metadata": {},
   "outputs": [],
   "source": [
    "from sklearn.svm import SVC\n",
    "from sklearn.metrics import accuracy_score\n",
    "from sklearn.model_selection import train_test_split"
   ]
  },
  {
   "cell_type": "code",
   "execution_count": 134,
   "metadata": {},
   "outputs": [],
   "source": [
    "#split testing data and training data\n",
    "X_train, X_test, Y_train, Y_test = train_test_split(X, labels, test_size = 0.2)"
   ]
  },
  {
   "cell_type": "code",
   "execution_count": 135,
   "metadata": {},
   "outputs": [
    {
     "name": "stdout",
     "output_type": "stream",
     "text": [
      "dimensions of X_train before using PCA :  (320, 7500)\n",
      "dimensions of X_train after using PCA :  (320, 3)\n"
     ]
    }
   ],
   "source": [
    "# Let's reduce the dimensions \n",
    "from sklearn.decomposition import PCA\n",
    "\n",
    "print('dimensions of X_train before using PCA : ', X_train.shape)\n",
    "pca = PCA(n_components = 3)\n",
    "\n",
    "X_train = pca.fit_transform(X_train)\n",
    "print('dimensions of X_train after using PCA : ', X_train.shape)"
   ]
  },
  {
   "cell_type": "code",
   "execution_count": 136,
   "metadata": {},
   "outputs": [
    {
     "data": {
      "text/plain": [
       "SVC()"
      ]
     },
     "execution_count": 136,
     "metadata": {},
     "output_type": "execute_result"
    }
   ],
   "source": [
    "# Training our model\n",
    "svm = SVC()\n",
    "svm.fit(X_train, Y_train)"
   ]
  },
  {
   "cell_type": "markdown",
   "metadata": {},
   "source": [
    "----------------\n",
    "Test our model\n"
   ]
  },
  {
   "cell_type": "code",
   "execution_count": 137,
   "metadata": {},
   "outputs": [],
   "source": [
    "# predict using testing data\n",
    "X_test = pca.fit_transform(X_test)\n",
    "Y_predicted = svm.predict(X_test)"
   ]
  },
  {
   "cell_type": "code",
   "execution_count": 138,
   "metadata": {},
   "outputs": [
    {
     "name": "stdout",
     "output_type": "stream",
     "text": [
      "Accuracy of model :  0.125\n"
     ]
    }
   ],
   "source": [
    "# let's find accuracy\n",
    "print('Accuracy of model : ', accuracy_score(Y_test, Y_predicted))"
   ]
  },
  {
   "cell_type": "markdown",
   "metadata": {},
   "source": [
    "---------------------------\n",
    "Lets check detctions"
   ]
  },
  {
   "cell_type": "code",
   "execution_count": 139,
   "metadata": {},
   "outputs": [],
   "source": [
    "haar_data = cv2.CascadeClassifier('haarcascade_frontalface_default.xml')"
   ]
  },
  {
   "cell_type": "code",
   "execution_count": 148,
   "metadata": {},
   "outputs": [],
   "source": [
    "capture = cv2.VideoCapture(0)\n",
    "data = []\n",
    "color_dict = {0 : (0,255,0), 1 : (0, 0, 255)}\n",
    "\n",
    "while True : \n",
    "    flag, img = capture.read()\n",
    "    if flag : \n",
    "        faces = haar_data.detectMultiScale(img)\n",
    "        for x,y,w,h in faces : \n",
    "           \n",
    "            face = img[y:y+h, x:x+w, :]\n",
    "            face = cv2.resize(face, (50,50))\n",
    "            face = face.reshape(1, -1)\n",
    "            face = pca.transform(face)\n",
    "            prediction = svm.predict(face)\n",
    "            result = names[int(prediction)]\n",
    "            cv2.rectangle(img, (x,y), (x+w, y+h), color_dict[int(prediction)], 2)\n",
    "            cv2.putText(img, names[int(prediction)], (x, y-10),cv2.FONT_HERSHEY_SIMPLEX,0.8,(255,255,255),2)\n",
    "            #cv2.rectangle(img,(x,y),(x+w,y+h),color_dict[label],2)\n",
    "           # cv2.rectangle(img,(x,y-40),(x+w,y),color_dict[label],-1)\n",
    "            \n",
    "        \n",
    "           # print(\"Result : \", result)\n",
    "        cv2.imshow('result', img)\n",
    "        if cv2.waitKey(2) == 27 : \n",
    "            break\n",
    "\n",
    "capture.release()\n",
    "cv2.destroyAllWindows()"
   ]
  },
  {
   "cell_type": "code",
   "execution_count": null,
   "metadata": {},
   "outputs": [],
   "source": []
  },
  {
   "cell_type": "code",
   "execution_count": null,
   "metadata": {},
   "outputs": [],
   "source": []
  },
  {
   "cell_type": "code",
   "execution_count": null,
   "metadata": {},
   "outputs": [],
   "source": []
  },
  {
   "cell_type": "code",
   "execution_count": null,
   "metadata": {},
   "outputs": [],
   "source": []
  }
 ],
 "metadata": {
  "kernelspec": {
   "display_name": "Python 3",
   "language": "python",
   "name": "python3"
  },
  "language_info": {
   "codemirror_mode": {
    "name": "ipython",
    "version": 3
   },
   "file_extension": ".py",
   "mimetype": "text/x-python",
   "name": "python",
   "nbconvert_exporter": "python",
   "pygments_lexer": "ipython3",
   "version": "3.8.5"
  }
 },
 "nbformat": 4,
 "nbformat_minor": 4
}
